{
 "cells": [
  {
   "cell_type": "code",
   "execution_count": 1,
   "metadata": {},
   "outputs": [
    {
     "name": "stdout",
     "output_type": "stream",
     "text": [
      "          mangled_dates  row_id\n",
      "0        01/01/20 12:00       0\n",
      "1        01/01/20 01:00       1\n",
      "2        01/01/20 02:00       2\n",
      "3        01/01/20 03:00       3\n",
      "4        01/01/20 04:00       4\n",
      "...                 ...     ...\n",
      "17539  31/12/2021 19:00   17539\n",
      "17540  31/12/2021 20:00   17540\n",
      "17541  31/12/2021 21:00   17541\n",
      "17542  31/12/2021 22:00   17542\n",
      "17543  31/12/2021 23:00   17543\n",
      "\n",
      "[17544 rows x 2 columns]\n"
     ]
    }
   ],
   "source": [
    "import excellaint as ea \n",
    "import pandas as pd\n",
    "\n",
    "ea_parser = ea.Parser()\n",
    "\n",
    "test_file = \"./test/test_data/2_digit_yr.xlsx\"\n",
    "\n",
    "test_df = pd.read_excel(test_file)\n",
    "\n",
    "print(test_df)"
   ]
  },
  {
   "cell_type": "code",
   "execution_count": 3,
   "metadata": {},
   "outputs": [
    {
     "name": "stdout",
     "output_type": "stream",
     "text": [
      "63.7 ms ± 1.14 ms per loop (mean ± std. dev. of 7 runs, 10 loops each)\n"
     ]
    }
   ],
   "source": [
    "%%timeit "
   ]
  },
  {
   "cell_type": "code",
   "execution_count": 5,
   "metadata": {},
   "outputs": [
    {
     "data": {
      "text/html": [
       "<div><style>\n",
       ".dataframe > thead > tr,\n",
       ".dataframe > tbody > tr {\n",
       "  text-align: right;\n",
       "  white-space: pre-wrap;\n",
       "}\n",
       "</style>\n",
       "<small>shape: (17_544, 2)</small><table border=\"1\" class=\"dataframe\"><thead><tr><th>row_id</th><th>Datetime</th></tr><tr><td>i64</td><td>datetime[μs]</td></tr></thead><tbody><tr><td>0</td><td>2020-01-01 12:00:00</td></tr><tr><td>1</td><td>2020-01-01 01:00:00</td></tr><tr><td>2</td><td>2020-01-01 02:00:00</td></tr><tr><td>3</td><td>2020-01-01 03:00:00</td></tr><tr><td>4</td><td>2020-01-01 04:00:00</td></tr><tr><td>&hellip;</td><td>&hellip;</td></tr><tr><td>17539</td><td>2021-12-31 19:00:00</td></tr><tr><td>17540</td><td>2021-12-31 20:00:00</td></tr><tr><td>17541</td><td>2021-12-31 21:00:00</td></tr><tr><td>17542</td><td>2021-12-31 22:00:00</td></tr><tr><td>17543</td><td>2021-12-31 23:00:00</td></tr></tbody></table></div>"
      ],
      "text/plain": [
       "shape: (17_544, 2)\n",
       "┌────────┬─────────────────────┐\n",
       "│ row_id ┆ Datetime            │\n",
       "│ ---    ┆ ---                 │\n",
       "│ i64    ┆ datetime[μs]        │\n",
       "╞════════╪═════════════════════╡\n",
       "│ 0      ┆ 2020-01-01 12:00:00 │\n",
       "│ 1      ┆ 2020-01-01 01:00:00 │\n",
       "│ 2      ┆ 2020-01-01 02:00:00 │\n",
       "│ 3      ┆ 2020-01-01 03:00:00 │\n",
       "│ 4      ┆ 2020-01-01 04:00:00 │\n",
       "│ …      ┆ …                   │\n",
       "│ 17539  ┆ 2021-12-31 19:00:00 │\n",
       "│ 17540  ┆ 2021-12-31 20:00:00 │\n",
       "│ 17541  ┆ 2021-12-31 21:00:00 │\n",
       "│ 17542  ┆ 2021-12-31 22:00:00 │\n",
       "│ 17543  ┆ 2021-12-31 23:00:00 │\n",
       "└────────┴─────────────────────┘"
      ]
     },
     "execution_count": 5,
     "metadata": {},
     "output_type": "execute_result"
    }
   ],
   "source": [
    "ea_parser(test_df,\"mangled_dates\",check_sorted=False)"
   ]
  }
 ],
 "metadata": {
  "kernelspec": {
   "display_name": "excellaint",
   "language": "python",
   "name": "python3"
  },
  "language_info": {
   "codemirror_mode": {
    "name": "ipython",
    "version": 3
   },
   "file_extension": ".py",
   "mimetype": "text/x-python",
   "name": "python",
   "nbconvert_exporter": "python",
   "pygments_lexer": "ipython3",
   "version": "3.12.2"
  }
 },
 "nbformat": 4,
 "nbformat_minor": 2
}
