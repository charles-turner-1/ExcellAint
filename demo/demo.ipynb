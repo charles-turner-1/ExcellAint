{
 "cells": [
  {
   "cell_type": "code",
   "execution_count": 1,
   "metadata": {},
   "outputs": [
    {
     "name": "stdout",
     "output_type": "stream",
     "text": [
      "          mangled_dates  row_id\n",
      "0        01/01/20 12:00       0\n",
      "1        01/01/20 01:00       1\n",
      "2        01/01/20 02:00       2\n",
      "3        01/01/20 03:00       3\n",
      "4        01/01/20 04:00       4\n",
      "...                 ...     ...\n",
      "17539  31/12/2021 19:00   17539\n",
      "17540  31/12/2021 20:00   17540\n",
      "17541  31/12/2021 21:00   17541\n",
      "17542  31/12/2021 22:00   17542\n",
      "17543  31/12/2021 23:00   17543\n",
      "\n",
      "[17544 rows x 2 columns]\n"
     ]
    }
   ],
   "source": [
    "import excellaint as ea\n",
    "import pandas as pd\n",
    "\n",
    "ea.config.date_sep = \"/\"\n",
    "ea.config.datetime_sep = \" \"\n",
    "\n",
    "\n",
    "test_file = \"./test/test_data/2_digit_yr.xlsx\"\n",
    "\n",
    "test_df = pd.read_excel(test_file)\n",
    "\n",
    "print(test_df)\n"
   ]
  },
  {
   "cell_type": "code",
   "execution_count": 2,
   "metadata": {},
   "outputs": [
    {
     "name": "stdout",
     "output_type": "stream",
     "text": [
      "63 ms ± 1.86 ms per loop (mean ± std. dev. of 7 runs, 10 loops each)\n"
     ]
    }
   ],
   "source": [
    "%%timeit \n",
    "ea.parse_datetime_column(test_df,\"mangled_dates\")"
   ]
  }
 ],
 "metadata": {
  "kernelspec": {
   "display_name": "excellaint",
   "language": "python",
   "name": "python3"
  },
  "language_info": {
   "codemirror_mode": {
    "name": "ipython",
    "version": 3
   },
   "file_extension": ".py",
   "mimetype": "text/x-python",
   "name": "python",
   "nbconvert_exporter": "python",
   "pygments_lexer": "ipython3",
   "version": "3.12.2"
  }
 },
 "nbformat": 4,
 "nbformat_minor": 2
}
